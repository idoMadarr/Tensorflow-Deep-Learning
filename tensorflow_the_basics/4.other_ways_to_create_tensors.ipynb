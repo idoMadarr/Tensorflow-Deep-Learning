{
  "cells": [
    {
      "cell_type": "markdown",
      "metadata": {
        "colab_type": "text",
        "id": "view-in-github"
      },
      "source": [
        "<a href=\"https://colab.research.google.com/github/idoMadarr/Tensorflow-Deep-Learning/blob/main/the_basics/4.other_ways_to_create_tensors.ipynb\" target=\"_parent\"><img src=\"https://colab.research.google.com/assets/colab-badge.svg\" alt=\"Open In Colab\"/></a>"
      ]
    },
    {
      "cell_type": "code",
      "execution_count": 1,
      "metadata": {
        "colab": {
          "base_uri": "https://localhost:8080/"
        },
        "id": "mB1uaReOD80T",
        "outputId": "6ab8d8b3-19c9-4595-c7fb-4da55d6b0536"
      },
      "outputs": [
        {
          "name": "stdout",
          "output_type": "stream",
          "text": [
            "tf.Tensor(\n",
            "[[1. 1. 1.]\n",
            " [1. 1. 1.]\n",
            " [1. 1. 1.]\n",
            " [1. 1. 1.]\n",
            " [1. 1. 1.]\n",
            " [1. 1. 1.]\n",
            " [1. 1. 1.]\n",
            " [1. 1. 1.]], shape=(8, 3), dtype=float32)\n",
            "tf.Tensor(\n",
            "[[0. 0. 0. 0. 0. 0.]\n",
            " [0. 0. 0. 0. 0. 0.]], shape=(2, 6), dtype=float32)\n",
            "tf.Tensor(\n",
            "[[0. 0.]\n",
            " [0. 0.]\n",
            " [0. 0.]\n",
            " [0. 0.]\n",
            " [0. 0.]\n",
            " [0. 0.]], shape=(6, 2), dtype=float32)\n"
          ]
        }
      ],
      "source": [
        "import tensorflow as tf\n",
        "\n",
        "new_tensor = tf.ones([8, 3])\n",
        "print(new_tensor)\n",
        "\n",
        "other_tensor = tf.zeros([2 ,6])\n",
        "another_tensor = tf.zeros(shape=(6, 2))\n",
        "\n",
        "print(other_tensor)\n",
        "print(another_tensor)\n",
        "\n"
      ]
    },
    {
      "cell_type": "code",
      "execution_count": 2,
      "metadata": {
        "colab": {
          "base_uri": "https://localhost:8080/"
        },
        "id": "RPKltUotKsCd",
        "outputId": "656e371d-054a-4cb9-880b-83ec74f399ca"
      },
      "outputs": [
        {
          "name": "stdout",
          "output_type": "stream",
          "text": [
            "[ 1  2  3  4  5  6  7  8  9 10 11 12 13 14 15 16 17 18 19 20 21 22 23 24\n",
            " 25 26 27 28 29 30 31 32 33 34 35 36 37 38 39 40 41 42 43 44 45 46 47 48\n",
            " 49 50 51 52 53 54 55 56 57 58 59 60] This is a simply numpy array\n",
            "tf.Tensor(\n",
            "[ 1  2  3  4  5  6  7  8  9 10 11 12 13 14 15 16 17 18 19 20 21 22 23 24\n",
            " 25 26 27 28 29 30 31 32 33 34 35 36 37 38 39 40 41 42 43 44 45 46 47 48\n",
            " 49 50 51 52 53 54 55 56 57 58 59 60], shape=(60,), dtype=int32) Real tensor - Vector\n",
            "tf.Tensor(\n",
            "[[[ 1  2  3  4  5]\n",
            "  [ 6  7  8  9 10]\n",
            "  [11 12 13 14 15]\n",
            "  [16 17 18 19 20]]\n",
            "\n",
            " [[21 22 23 24 25]\n",
            "  [26 27 28 29 30]\n",
            "  [31 32 33 34 35]\n",
            "  [36 37 38 39 40]]\n",
            "\n",
            " [[41 42 43 44 45]\n",
            "  [46 47 48 49 50]\n",
            "  [51 52 53 54 55]\n",
            "  [56 57 58 59 60]]], shape=(3, 4, 5), dtype=int32) Dimention: 3\n",
            "tf.Tensor(\n",
            "[[ 1  2  3  4  5  6  7  8  9 10]\n",
            " [11 12 13 14 15 16 17 18 19 20]\n",
            " [21 22 23 24 25 26 27 28 29 30]\n",
            " [31 32 33 34 35 36 37 38 39 40]\n",
            " [41 42 43 44 45 46 47 48 49 50]\n",
            " [51 52 53 54 55 56 57 58 59 60]], shape=(6, 10), dtype=int32) Dimention: 2\n"
          ]
        }
      ],
      "source": [
        "# Numpy Arrays vs Tensors\n",
        "# The main difference between numpy arrays and tensor is that tensors can be run on GPU (super fast).\n",
        "\n",
        "import numpy as np\n",
        "\n",
        "numpy_A = np.arange(1, 61, dtype=np.int32) # -> 60 elements in total\n",
        "\n",
        "print(numpy_A, \"This is a simply numpy array\")\n",
        "\n",
        "# Turn Numpy arrays into a real tensor:\n",
        "\n",
        "tensor_A = tf.constant(numpy_A)\n",
        "\n",
        "print(tensor_A, \"Real tensor - Vector\")\n",
        "\n",
        "# When we want to turn it into a multiy dimension tensor, the shape should be in accordance to the total numbers (which mean => shape(x * x * x) => total element (60)\n",
        "A = tf.constant(numpy_A, shape=(3, 4, 5)) # 3 * 4 * 5 => 60\n",
        "B = tf.constant(numpy_A, shape=(6, 10)) # 10 * 6 => 60\n",
        "\n",
        "print(A, f\"Dimention: {A.ndim}\")\n",
        "print(B, f\"Dimention: {B.ndim}\")\n",
        "\n"
      ]
    }
  ],
  "metadata": {
    "colab": {
      "authorship_tag": "ABX9TyMbs8FXtsWep6LKiZfl7XJu",
      "include_colab_link": true,
      "provenance": []
    },
    "kernelspec": {
      "display_name": "Python 3",
      "name": "python3"
    },
    "language_info": {
      "codemirror_mode": {
        "name": "ipython",
        "version": 3
      },
      "file_extension": ".py",
      "mimetype": "text/x-python",
      "name": "python",
      "nbconvert_exporter": "python",
      "pygments_lexer": "ipython3",
      "version": "3.12.2"
    }
  },
  "nbformat": 4,
  "nbformat_minor": 0
}
