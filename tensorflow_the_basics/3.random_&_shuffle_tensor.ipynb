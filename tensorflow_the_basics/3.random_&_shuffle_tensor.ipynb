{
  "nbformat": 4,
  "nbformat_minor": 0,
  "metadata": {
    "colab": {
      "provenance": [],
      "authorship_tag": "ABX9TyP0ZHJNad6mI5mV3WVTXKeg",
      "include_colab_link": true
    },
    "kernelspec": {
      "name": "python3",
      "display_name": "Python 3"
    },
    "language_info": {
      "name": "python"
    }
  },
  "cells": [
    {
      "cell_type": "markdown",
      "metadata": {
        "id": "view-in-github",
        "colab_type": "text"
      },
      "source": [
        "<a href=\"https://colab.research.google.com/github/idoMadarr/Tensorflow-Deep-Learning/blob/main/the_basics/random_%26_shuffle_tensor.ipynb\" target=\"_parent\"><img src=\"https://colab.research.google.com/assets/colab-badge.svg\" alt=\"Open In Colab\"/></a>"
      ]
    },
    {
      "cell_type": "code",
      "execution_count": 15,
      "metadata": {
        "colab": {
          "base_uri": "https://localhost:8080/"
        },
        "id": "RDS2HZVJuuhU",
        "outputId": "ba77f55c-f927-493f-dd83-7e1d2905e9b7"
      },
      "outputs": [
        {
          "output_type": "stream",
          "name": "stdout",
          "text": [
            "tf.Tensor(\n",
            "[[-0.645002    0.18022095]\n",
            " [-0.14656258  0.34374258]\n",
            " [ 0.41367555  0.17573498]\n",
            " [-1.0871261   0.45905176]\n",
            " [ 0.20386009  0.562024  ]\n",
            " [-2.3001142  -1.349454  ]], shape=(6, 2), dtype=float32)\n",
            "tf.Tensor(\n",
            "[[ 0.7901182   1.585549    0.4356279 ]\n",
            " [ 0.2364518  -0.1589871   1.302304  ]\n",
            " [ 0.9592239   0.85874265 -1.5181769 ]\n",
            " [ 1.4020647   1.5570306  -0.96762174]], shape=(4, 3), dtype=float32)\n",
            "tf.Tensor(\n",
            "[[-0.645002    0.18022095]\n",
            " [-0.14656258  0.34374258]\n",
            " [ 0.41367555  0.17573498]\n",
            " [-1.0871261   0.45905176]\n",
            " [ 0.20386009  0.562024  ]\n",
            " [-2.3001142  -1.349454  ]], shape=(6, 2), dtype=float32)\n",
            "tf.Tensor(\n",
            "[[ True  True]\n",
            " [ True  True]\n",
            " [ True  True]\n",
            " [ True  True]\n",
            " [ True  True]\n",
            " [ True  True]], shape=(6, 2), dtype=bool)\n"
          ]
        }
      ],
      "source": [
        "import tensorflow as tf\n",
        "\n",
        "random_1 = tf.random.Generator.from_seed(36)\n",
        "random_1 = random_1.normal(shape=(6, 2))\n",
        "\n",
        "random_2 = tf.random.Generator.from_seed(32)\n",
        "random_2 = random_2.normal(shape=(4, 3))\n",
        "\n",
        "random_3 = tf.random.Generator.from_seed(36)\n",
        "random_3 = random_3.normal(shape=(6, 2))\n",
        "\n",
        "print(random_1)\n",
        "print(random_2)\n",
        "print(random_3)\n",
        "\n",
        "# Are they equal?\n",
        "# If the base seed in the same and the shape is the same - YES!\n",
        "print(random_1 == random_3)"
      ]
    },
    {
      "cell_type": "code",
      "source": [
        "import tensorflow as tf\n",
        "\n",
        "# Let say we want to feed our model/neural-network in images data for classification, it is wise to feed our model in unorder images.\n",
        "# We want to avoid cases that we feed our model in just one item for long time - so we want to mix and shuffle the data.\n",
        "# This approch is better for deep learning - beacuse we want to avoid constant pattern of learning.\n",
        "\n",
        "# Shuffle a tensor (valueable when we want to shuffle our data)\n",
        "not_shuffled = tf.constant([[1 ,2 ,3], [4, 5, 6], [7, 8, 9]])\n",
        "\n",
        "print(not_shuffled)\n",
        "print(not_shuffled.ndim)\n",
        "\n",
        "# Shuffle our tensor\n",
        "shuffled = tf.random.shuffle(not_shuffled)\n",
        "\n",
        "# Keep in mind the the order of the values indide a specific array in not change\n",
        "# what change is the order of the nested arrays itself\n",
        "print(shuffled)"
      ],
      "metadata": {
        "colab": {
          "base_uri": "https://localhost:8080/"
        },
        "id": "MsJuld39yLSJ",
        "outputId": "d3433ca5-b955-4cbc-9191-d6c5944643a6"
      },
      "execution_count": 92,
      "outputs": [
        {
          "output_type": "stream",
          "name": "stdout",
          "text": [
            "tf.Tensor(\n",
            "[[1 2 3]\n",
            " [4 5 6]\n",
            " [7 8 9]], shape=(3, 3), dtype=int32)\n",
            "2\n",
            "tf.Tensor(\n",
            "[[7 8 9]\n",
            " [1 2 3]\n",
            " [4 5 6]], shape=(3, 3), dtype=int32)\n"
          ]
        }
      ]
    },
    {
      "cell_type": "code",
      "source": [
        "tf.random.set_seed(12) # Global seed\n",
        "another_shuffled = tf.random.shuffle(not_shuffled, seed=12) # Operation seed\n",
        "\n",
        "# NOTICE: If both global seed and operation seed are set, both seends are used in conjunction to determine the random sequence.\n",
        "print(another_shuffled)"
      ],
      "metadata": {
        "colab": {
          "base_uri": "https://localhost:8080/"
        },
        "id": "vXHqj4JL1R2b",
        "outputId": "02e34648-0306-4dd8-f263-f84a692a2d5f"
      },
      "execution_count": 85,
      "outputs": [
        {
          "output_type": "stream",
          "name": "stdout",
          "text": [
            "tf.Tensor(\n",
            "[[7 8 9]\n",
            " [4 5 6]\n",
            " [1 2 3]], shape=(3, 3), dtype=int32)\n"
          ]
        }
      ]
    },
    {
      "cell_type": "code",
      "source": [],
      "metadata": {
        "id": "pclWhJc5_l7A"
      },
      "execution_count": null,
      "outputs": []
    }
  ]
}
