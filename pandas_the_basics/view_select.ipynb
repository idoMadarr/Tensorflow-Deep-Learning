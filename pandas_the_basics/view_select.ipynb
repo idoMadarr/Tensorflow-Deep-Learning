{
 "cells": [
  {
   "cell_type": "code",
   "execution_count": 111,
   "id": "44785c49",
   "metadata": {},
   "outputs": [
    {
     "data": {
      "text/html": [
       "<div>\n",
       "<style scoped>\n",
       "    .dataframe tbody tr th:only-of-type {\n",
       "        vertical-align: middle;\n",
       "    }\n",
       "\n",
       "    .dataframe tbody tr th {\n",
       "        vertical-align: top;\n",
       "    }\n",
       "\n",
       "    .dataframe thead th {\n",
       "        text-align: right;\n",
       "    }\n",
       "</style>\n",
       "<table border=\"1\" class=\"dataframe\">\n",
       "  <thead>\n",
       "    <tr style=\"text-align: right;\">\n",
       "      <th></th>\n",
       "      <th>Component</th>\n",
       "      <th>Brand</th>\n",
       "      <th>Model</th>\n",
       "      <th>Specs</th>\n",
       "      <th>Serial Number</th>\n",
       "      <th>Notes</th>\n",
       "      <th>Price</th>\n",
       "      <th>Amount</th>\n",
       "    </tr>\n",
       "    <tr>\n",
       "      <th>Id</th>\n",
       "      <th></th>\n",
       "      <th></th>\n",
       "      <th></th>\n",
       "      <th></th>\n",
       "      <th></th>\n",
       "      <th></th>\n",
       "      <th></th>\n",
       "      <th></th>\n",
       "    </tr>\n",
       "  </thead>\n",
       "  <tbody>\n",
       "    <tr>\n",
       "      <th>1</th>\n",
       "      <td>CPU</td>\n",
       "      <td>Intel</td>\n",
       "      <td>Core i7-11700K</td>\n",
       "      <td>8 cores / 16 threads / 3.6GHz</td>\n",
       "      <td>SNCPU123</td>\n",
       "      <td>High-performance CPU</td>\n",
       "      <td>2300</td>\n",
       "      <td>6p</td>\n",
       "    </tr>\n",
       "    <tr>\n",
       "      <th>2</th>\n",
       "      <td>RAM</td>\n",
       "      <td>Corsair</td>\n",
       "      <td>Vengeance LPX DDR4</td>\n",
       "      <td>32GB (2x16GB) 3200MHz</td>\n",
       "      <td>SNRAM456</td>\n",
       "      <td>Upgradable to 64GB</td>\n",
       "      <td>800</td>\n",
       "      <td>250p</td>\n",
       "    </tr>\n",
       "    <tr>\n",
       "      <th>3</th>\n",
       "      <td>GPU</td>\n",
       "      <td>NVIDIA</td>\n",
       "      <td>GeForce RTX 3070</td>\n",
       "      <td>8GB GDDR6</td>\n",
       "      <td>SNGPU789</td>\n",
       "      <td>Great for gaming and ML</td>\n",
       "      <td>5600</td>\n",
       "      <td>3p</td>\n",
       "    </tr>\n",
       "    <tr>\n",
       "      <th>4</th>\n",
       "      <td>Storage</td>\n",
       "      <td>Samsung</td>\n",
       "      <td>970 EVO Plus</td>\n",
       "      <td>1TB NVMe SSD</td>\n",
       "      <td>SNSTR001</td>\n",
       "      <td>Primary drive</td>\n",
       "      <td>600</td>\n",
       "      <td>32p</td>\n",
       "    </tr>\n",
       "  </tbody>\n",
       "</table>\n",
       "</div>"
      ],
      "text/plain": [
       "   Component    Brand               Model                          Specs  \\\n",
       "Id                                                                         \n",
       "1        CPU    Intel      Core i7-11700K  8 cores / 16 threads / 3.6GHz   \n",
       "2        RAM  Corsair  Vengeance LPX DDR4          32GB (2x16GB) 3200MHz   \n",
       "3        GPU   NVIDIA    GeForce RTX 3070                      8GB GDDR6   \n",
       "4    Storage  Samsung        970 EVO Plus                   1TB NVMe SSD   \n",
       "\n",
       "   Serial Number                    Notes  Price Amount  \n",
       "Id                                                       \n",
       "1       SNCPU123     High-performance CPU   2300     6p  \n",
       "2       SNRAM456       Upgradable to 64GB    800   250p  \n",
       "3       SNGPU789  Great for gaming and ML   5600     3p  \n",
       "4       SNSTR001            Primary drive    600    32p  "
      ]
     },
     "execution_count": 111,
     "metadata": {},
     "output_type": "execute_result"
    }
   ],
   "source": [
    "import pandas as pd\n",
    "\n",
    "data = pd.read_csv('./pc_data.csv', index_col=0)\n",
    "\n",
    "# Select number of rows from top\n",
    "data.head(4)\n",
    "\n",
    "# Select number of rows from bottom\n",
    "# data.tail(3)"
   ]
  },
  {
   "cell_type": "code",
   "execution_count": null,
   "id": "1dbbaca1",
   "metadata": {},
   "outputs": [
    {
     "name": "stdout",
     "output_type": "stream",
     "text": [
      "0       Giraf\n",
      "2         Cow\n",
      "4         Cat\n",
      "6        Bird\n",
      "2    Elephant\n",
      "dtype: object\n"
     ]
    },
    {
     "data": {
      "text/plain": [
       "2         Cow\n",
       "2    Elephant\n",
       "dtype: object"
      ]
     },
     "execution_count": 112,
     "metadata": {},
     "output_type": "execute_result"
    }
   ],
   "source": [
    "# We can create our own indexs\n",
    "animals = pd.Series([\"Giraf\", \"Cow\", \"Cat\", \"Bird\", \"Elephant\"], index=[0, 2, 4, 6, 2])\n",
    "print(animals)\n",
    "\n",
    "# loc[x] if for select by index of the dataframe\n",
    "animals.loc[2]"
   ]
  },
  {
   "cell_type": "code",
   "execution_count": 113,
   "id": "d12f6263",
   "metadata": {},
   "outputs": [
    {
     "data": {
      "text/plain": [
       "Component                            GPU\n",
       "Brand                             NVIDIA\n",
       "Model                   GeForce RTX 3070\n",
       "Specs                          8GB GDDR6\n",
       "Serial Number                   SNGPU789\n",
       "Notes            Great for gaming and ML\n",
       "Price                               5600\n",
       "Amount                                3p\n",
       "Name: 3, dtype: object"
      ]
     },
     "execution_count": 113,
     "metadata": {},
     "output_type": "execute_result"
    }
   ],
   "source": [
    "data.loc[3]"
   ]
  },
  {
   "cell_type": "code",
   "execution_count": 114,
   "id": "0aacc17a",
   "metadata": {},
   "outputs": [
    {
     "data": {
      "text/plain": [
       "Component                            GPU\n",
       "Brand                             NVIDIA\n",
       "Model                   GeForce RTX 3070\n",
       "Specs                          8GB GDDR6\n",
       "Serial Number                   SNGPU789\n",
       "Notes            Great for gaming and ML\n",
       "Price                               5600\n",
       "Amount                                3p\n",
       "Name: 3, dtype: object"
      ]
     },
     "execution_count": 114,
     "metadata": {},
     "output_type": "execute_result"
    }
   ],
   "source": [
    "# iloc[x] if for select by position (start with 0 like array) of the dataframe\n",
    "\n",
    "data.iloc[2]"
   ]
  },
  {
   "cell_type": "code",
   "execution_count": 115,
   "id": "55d14c75",
   "metadata": {},
   "outputs": [
    {
     "data": {
      "text/html": [
       "<div>\n",
       "<style scoped>\n",
       "    .dataframe tbody tr th:only-of-type {\n",
       "        vertical-align: middle;\n",
       "    }\n",
       "\n",
       "    .dataframe tbody tr th {\n",
       "        vertical-align: top;\n",
       "    }\n",
       "\n",
       "    .dataframe thead th {\n",
       "        text-align: right;\n",
       "    }\n",
       "</style>\n",
       "<table border=\"1\" class=\"dataframe\">\n",
       "  <thead>\n",
       "    <tr style=\"text-align: right;\">\n",
       "      <th></th>\n",
       "      <th>Component</th>\n",
       "      <th>Brand</th>\n",
       "      <th>Model</th>\n",
       "      <th>Specs</th>\n",
       "      <th>Serial Number</th>\n",
       "      <th>Notes</th>\n",
       "      <th>Price</th>\n",
       "      <th>Amount</th>\n",
       "    </tr>\n",
       "    <tr>\n",
       "      <th>Id</th>\n",
       "      <th></th>\n",
       "      <th></th>\n",
       "      <th></th>\n",
       "      <th></th>\n",
       "      <th></th>\n",
       "      <th></th>\n",
       "      <th></th>\n",
       "      <th></th>\n",
       "    </tr>\n",
       "  </thead>\n",
       "  <tbody>\n",
       "    <tr>\n",
       "      <th>1</th>\n",
       "      <td>CPU</td>\n",
       "      <td>Intel</td>\n",
       "      <td>Core i7-11700K</td>\n",
       "      <td>8 cores / 16 threads / 3.6GHz</td>\n",
       "      <td>SNCPU123</td>\n",
       "      <td>High-performance CPU</td>\n",
       "      <td>2300</td>\n",
       "      <td>6p</td>\n",
       "    </tr>\n",
       "    <tr>\n",
       "      <th>2</th>\n",
       "      <td>RAM</td>\n",
       "      <td>Corsair</td>\n",
       "      <td>Vengeance LPX DDR4</td>\n",
       "      <td>32GB (2x16GB) 3200MHz</td>\n",
       "      <td>SNRAM456</td>\n",
       "      <td>Upgradable to 64GB</td>\n",
       "      <td>800</td>\n",
       "      <td>250p</td>\n",
       "    </tr>\n",
       "  </tbody>\n",
       "</table>\n",
       "</div>"
      ],
      "text/plain": [
       "   Component    Brand               Model                          Specs  \\\n",
       "Id                                                                         \n",
       "1        CPU    Intel      Core i7-11700K  8 cores / 16 threads / 3.6GHz   \n",
       "2        RAM  Corsair  Vengeance LPX DDR4          32GB (2x16GB) 3200MHz   \n",
       "\n",
       "   Serial Number                 Notes  Price Amount  \n",
       "Id                                                    \n",
       "1       SNCPU123  High-performance CPU   2300     6p  \n",
       "2       SNRAM456    Upgradable to 64GB    800   250p  "
      ]
     },
     "execution_count": 115,
     "metadata": {},
     "output_type": "execute_result"
    }
   ],
   "source": [
    "# : sign will give us the data UP to position x (including)\n",
    "data.loc[:2]"
   ]
  },
  {
   "cell_type": "code",
   "execution_count": 116,
   "id": "e27a65aa",
   "metadata": {},
   "outputs": [
    {
     "data": {
      "text/plain": [
       "Id\n",
       "1        Intel\n",
       "2      Corsair\n",
       "3       NVIDIA\n",
       "4      Samsung\n",
       "5    Microsoft\n",
       "6         ASUS\n",
       "Name: Brand, dtype: object"
      ]
     },
     "execution_count": 116,
     "metadata": {},
     "output_type": "execute_result"
    }
   ],
   "source": [
    "# Same syntax for selecting a column\n",
    "data[\"Brand\"]\n",
    "# data.Model"
   ]
  },
  {
   "cell_type": "code",
   "execution_count": 117,
   "id": "3aa2d9d2",
   "metadata": {},
   "outputs": [
    {
     "data": {
      "text/html": [
       "<div>\n",
       "<style scoped>\n",
       "    .dataframe tbody tr th:only-of-type {\n",
       "        vertical-align: middle;\n",
       "    }\n",
       "\n",
       "    .dataframe tbody tr th {\n",
       "        vertical-align: top;\n",
       "    }\n",
       "\n",
       "    .dataframe thead th {\n",
       "        text-align: right;\n",
       "    }\n",
       "</style>\n",
       "<table border=\"1\" class=\"dataframe\">\n",
       "  <thead>\n",
       "    <tr style=\"text-align: right;\">\n",
       "      <th></th>\n",
       "      <th>Component</th>\n",
       "      <th>Brand</th>\n",
       "      <th>Model</th>\n",
       "      <th>Specs</th>\n",
       "      <th>Serial Number</th>\n",
       "      <th>Notes</th>\n",
       "      <th>Price</th>\n",
       "      <th>Amount</th>\n",
       "    </tr>\n",
       "    <tr>\n",
       "      <th>Id</th>\n",
       "      <th></th>\n",
       "      <th></th>\n",
       "      <th></th>\n",
       "      <th></th>\n",
       "      <th></th>\n",
       "      <th></th>\n",
       "      <th></th>\n",
       "      <th></th>\n",
       "    </tr>\n",
       "  </thead>\n",
       "  <tbody>\n",
       "    <tr>\n",
       "      <th>3</th>\n",
       "      <td>GPU</td>\n",
       "      <td>NVIDIA</td>\n",
       "      <td>GeForce RTX 3070</td>\n",
       "      <td>8GB GDDR6</td>\n",
       "      <td>SNGPU789</td>\n",
       "      <td>Great for gaming and ML</td>\n",
       "      <td>5600</td>\n",
       "      <td>3p</td>\n",
       "    </tr>\n",
       "  </tbody>\n",
       "</table>\n",
       "</div>"
      ],
      "text/plain": [
       "   Component   Brand             Model      Specs Serial Number  \\\n",
       "Id                                                                \n",
       "3        GPU  NVIDIA  GeForce RTX 3070  8GB GDDR6      SNGPU789   \n",
       "\n",
       "                      Notes  Price Amount  \n",
       "Id                                         \n",
       "3   Great for gaming and ML   5600     3p  "
      ]
     },
     "execution_count": 117,
     "metadata": {},
     "output_type": "execute_result"
    }
   ],
   "source": [
    "# Select and filter\n",
    "data[data[\"Brand\"] == \"NVIDIA\"]"
   ]
  },
  {
   "cell_type": "code",
   "execution_count": 118,
   "id": "e8c59727",
   "metadata": {},
   "outputs": [
    {
     "data": {
      "text/html": [
       "<div>\n",
       "<style scoped>\n",
       "    .dataframe tbody tr th:only-of-type {\n",
       "        vertical-align: middle;\n",
       "    }\n",
       "\n",
       "    .dataframe tbody tr th {\n",
       "        vertical-align: top;\n",
       "    }\n",
       "\n",
       "    .dataframe thead th {\n",
       "        text-align: right;\n",
       "    }\n",
       "</style>\n",
       "<table border=\"1\" class=\"dataframe\">\n",
       "  <thead>\n",
       "    <tr style=\"text-align: right;\">\n",
       "      <th>Serial Number</th>\n",
       "      <th>SNCPU123</th>\n",
       "      <th>SNGPU789</th>\n",
       "      <th>SNMB002</th>\n",
       "      <th>SNRAM456</th>\n",
       "      <th>SNSTR001</th>\n",
       "    </tr>\n",
       "    <tr>\n",
       "      <th>Brand</th>\n",
       "      <th></th>\n",
       "      <th></th>\n",
       "      <th></th>\n",
       "      <th></th>\n",
       "      <th></th>\n",
       "    </tr>\n",
       "  </thead>\n",
       "  <tbody>\n",
       "    <tr>\n",
       "      <th>ASUS</th>\n",
       "      <td>0</td>\n",
       "      <td>0</td>\n",
       "      <td>1</td>\n",
       "      <td>0</td>\n",
       "      <td>0</td>\n",
       "    </tr>\n",
       "    <tr>\n",
       "      <th>Corsair</th>\n",
       "      <td>0</td>\n",
       "      <td>0</td>\n",
       "      <td>0</td>\n",
       "      <td>1</td>\n",
       "      <td>0</td>\n",
       "    </tr>\n",
       "    <tr>\n",
       "      <th>Intel</th>\n",
       "      <td>1</td>\n",
       "      <td>0</td>\n",
       "      <td>0</td>\n",
       "      <td>0</td>\n",
       "      <td>0</td>\n",
       "    </tr>\n",
       "    <tr>\n",
       "      <th>NVIDIA</th>\n",
       "      <td>0</td>\n",
       "      <td>1</td>\n",
       "      <td>0</td>\n",
       "      <td>0</td>\n",
       "      <td>0</td>\n",
       "    </tr>\n",
       "    <tr>\n",
       "      <th>Samsung</th>\n",
       "      <td>0</td>\n",
       "      <td>0</td>\n",
       "      <td>0</td>\n",
       "      <td>0</td>\n",
       "      <td>1</td>\n",
       "    </tr>\n",
       "  </tbody>\n",
       "</table>\n",
       "</div>"
      ],
      "text/plain": [
       "Serial Number  SNCPU123  SNGPU789  SNMB002  SNRAM456  SNSTR001\n",
       "Brand                                                         \n",
       "ASUS                  0         0        1         0         0\n",
       "Corsair               0         0        0         1         0\n",
       "Intel                 1         0        0         0         0\n",
       "NVIDIA                0         1        0         0         0\n",
       "Samsung               0         0        0         0         1"
      ]
     },
     "execution_count": 118,
     "metadata": {},
     "output_type": "execute_result"
    }
   ],
   "source": [
    "# Combine and compere two columns together\n",
    "pd.crosstab(data.Brand, data['Serial Number'])"
   ]
  },
  {
   "cell_type": "code",
   "execution_count": 119,
   "id": "7334d721",
   "metadata": {},
   "outputs": [
    {
     "data": {
      "text/plain": [
       "<Axes: xlabel='Id'>"
      ]
     },
     "execution_count": 119,
     "metadata": {},
     "output_type": "execute_result"
    },
    {
     "data": {
      "image/png": "[encoded data removed]",
      "text/plain": [
       "<Figure size 640x480 with 1 Axes>"
      ]
     },
     "metadata": {},
     "output_type": "display_data"
    }
   ],
   "source": [
    "# Graph base on the data\n",
    "data.Price.plot()"
   ]
  },
  {
   "cell_type": "code",
   "execution_count": 120,
   "id": "318af95b",
   "metadata": {},
   "outputs": [
    {
     "data": {
      "text/plain": [
       "<Axes: >"
      ]
     },
     "execution_count": 120,
     "metadata": {},
     "output_type": "execute_result"
    },
    {
     "data": {
      "image/png": "[encoded data removed]",
      "text/plain": [
       "<Figure size 640x480 with 1 Axes>"
      ]
     },
     "metadata": {},
     "output_type": "display_data"
    }
   ],
   "source": [
    "# Box Graph base on the data\n",
    "data.Price.hist()"
   ]
  },
  {
   "cell_type": "code",
   "execution_count": 128,
   "id": "3532386d",
   "metadata": {},
   "outputs": [
    {
     "name": "stdout",
     "output_type": "stream",
     "text": [
      "Id\n",
      "1      6\n",
      "2    250\n",
      "3      3\n",
      "4     32\n",
      "5     50\n",
      "6      0\n",
      "Name: Amount, dtype: int32\n"
     ]
    },
    {
     "data": {
      "text/plain": [
       "<Axes: xlabel='Id'>"
      ]
     },
     "execution_count": 128,
     "metadata": {},
     "output_type": "execute_result"
    },
    {
     "data": {
      "image/png": "[encoded data removed]",
      "text/plain": [
       "<Figure size 640x480 with 1 Axes>"
      ]
     },
     "metadata": {},
     "output_type": "display_data"
    }
   ],
   "source": [
    "# For creating graph from none int cell, we have to convert it from advance\n",
    "data['Amount'] = data['Amount'].astype(str).str.replace('p', '', regex=False).astype(int)\n",
    "print(data.Amount)\n",
    "data.Amount.plot()\n"
   ]
  }
 ],
 "metadata": {
  "kernelspec": {
   "display_name": "Python 3",
   "language": "python",
   "name": "python3"
  },
  "language_info": {
   "codemirror_mode": {
    "name": "ipython",
    "version": 3
   },
   "file_extension": ".py",
   "mimetype": "text/x-python",
   "name": "python",
   "nbconvert_exporter": "python",
   "pygments_lexer": "ipython3",
   "version": "3.12.2"
  }
 },
 "nbformat": 4,
 "nbformat_minor": 5
}
