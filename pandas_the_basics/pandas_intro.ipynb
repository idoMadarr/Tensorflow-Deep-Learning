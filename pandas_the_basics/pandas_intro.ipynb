{
  "nbformat": 4,
  "nbformat_minor": 0,
  "metadata": {
    "colab": {
      "provenance": [],
      "authorship_tag": "ABX9TyMC/1NR8XE/pcGDMZh+oXie",
      "include_colab_link": true
    },
    "kernelspec": {
      "name": "python3",
      "display_name": "Python 3"
    },
    "language_info": {
      "name": "python"
    }
  },
  "cells": [
    {
      "cell_type": "markdown",
      "metadata": {
        "id": "view-in-github",
        "colab_type": "text"
      },
      "source": [
        "<a href=\"https://colab.research.google.com/github/idoMadarr/Tensorflow-Deep-Learning/blob/main/pandas_the_basics/pandas_intro.ipynb\" target=\"_parent\"><img src=\"https://colab.research.google.com/assets/colab-badge.svg\" alt=\"Open In Colab\"/></a>"
      ]
    },
    {
      "cell_type": "code",
      "execution_count": 2,
      "metadata": {
        "colab": {
          "base_uri": "https://localhost:8080/"
        },
        "id": "EoH098cUV0-z",
        "outputId": "32dee411-a82f-4b4c-be11-ca65b2b1222a"
      },
      "outputs": [
        {
          "output_type": "stream",
          "name": "stdout",
          "text": [
            "2.2.2\n"
          ]
        }
      ],
      "source": [
        "import pandas as pd\n",
        "\n",
        "print(pd.__version__)"
      ]
    },
    {
      "cell_type": "code",
      "source": [
        "# Pandas work with two main datatypes, \"Series\" and \"DataFrame\"\n",
        "\n",
        "# Series is one dimensional\n",
        "series_1 = pd.Series([\"Honda\", \"Kia\", \"Toyota\", \"BMW\"])\n",
        "series_2 = pd.Series([\"Red\", \"Green\", \"Blue\", \"Pink\", \"Yellow\"])\n",
        "\n",
        "print(series_1)\n",
        "print(series_2)"
      ],
      "metadata": {
        "colab": {
          "base_uri": "https://localhost:8080/"
        },
        "id": "c8TQlTWabUD2",
        "outputId": "278fb2b0-e4a5-499d-adb9-97c4dc58b4e6"
      },
      "execution_count": 3,
      "outputs": [
        {
          "output_type": "stream",
          "name": "stdout",
          "text": [
            "0     Honda\n",
            "1       Kia\n",
            "2    Toyota\n",
            "3       BMW\n",
            "dtype: object\n",
            "0       Red\n",
            "1     Green\n",
            "2      Blue\n",
            "3      Pink\n",
            "4    Yellow\n",
            "dtype: object\n"
          ]
        }
      ]
    },
    {
      "cell_type": "code",
      "source": [
        "# DataFrame is two dimensional\n",
        "car_data = pd.DataFrame({ \"Car\": series_1, \"Color\": series_2 })\n",
        "\n",
        "print(car_data)"
      ],
      "metadata": {
        "colab": {
          "base_uri": "https://localhost:8080/"
        },
        "id": "yrjGUY7sb9s4",
        "outputId": "bdb673d5-f665-4cc1-ae5a-b385a651bfc5"
      },
      "execution_count": 4,
      "outputs": [
        {
          "output_type": "stream",
          "name": "stdout",
          "text": [
            "      Car   Color\n",
            "0   Honda     Red\n",
            "1     Kia   Green\n",
            "2  Toyota    Blue\n",
            "3     BMW    Pink\n",
            "4     NaN  Yellow\n"
          ]
        }
      ]
    },
    {
      "cell_type": "code",
      "source": [
        "# In most cases we dont create a DataFrame from scrach, but import xls or spreadsheet (csv) file\n",
        "\n"
      ],
      "metadata": {
        "id": "xZHCnHIXJPWT"
      },
      "execution_count": null,
      "outputs": []
    }
  ]
}