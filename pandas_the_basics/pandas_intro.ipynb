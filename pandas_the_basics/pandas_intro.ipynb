{
  "cells": [
    {
      "cell_type": "markdown",
      "metadata": {
        "colab_type": "text",
        "id": "view-in-github"
      },
      "source": [
        "<a href=\"https://colab.research.google.com/github/idoMadarr/Tensorflow-Deep-Learning/blob/main/pandas_the_basics/pandas_intro.ipynb\" target=\"_parent\"><img src=\"https://colab.research.google.com/assets/colab-badge.svg\" alt=\"Open In Colab\"/></a>"
      ]
    },
    {
      "cell_type": "code",
      "execution_count": 2,
      "metadata": {
        "colab": {
          "base_uri": "https://localhost:8080/"
        },
        "id": "EoH098cUV0-z",
        "outputId": "32dee411-a82f-4b4c-be11-ca65b2b1222a"
      },
      "outputs": [
        {
          "name": "stdout",
          "output_type": "stream",
          "text": [
            "2.2.2\n"
          ]
        }
      ],
      "source": [
        "import pandas as pd\n",
        "\n",
        "print(pd.__version__)"
      ]
    },
    {
      "cell_type": "code",
      "execution_count": 9,
      "metadata": {
        "colab": {
          "base_uri": "https://localhost:8080/"
        },
        "id": "c8TQlTWabUD2",
        "outputId": "278fb2b0-e4a5-499d-adb9-97c4dc58b4e6"
      },
      "outputs": [
        {
          "name": "stdout",
          "output_type": "stream",
          "text": [
            "0     Honda\n",
            "1       Kia\n",
            "2    Toyota\n",
            "3       BMW\n",
            "dtype: object\n",
            "0       Red\n",
            "1     Green\n",
            "2      Blue\n",
            "3      Pink\n",
            "4    Yellow\n",
            "dtype: object\n"
          ]
        }
      ],
      "source": [
        "# Pandas work with two main datatypes, \"Series\" and \"DataFrame\"\n",
        "\n",
        "# Series is one dimensional\n",
        "series_1 = pd.Series([\"Honda\", \"Kia\", \"Toyota\", \"BMW\"])\n",
        "series_2 = pd.Series([\"Red\", \"Green\", \"Blue\", \"Pink\", \"Yellow\"])\n",
        "\n",
        "print(series_1)\n",
        "print(series_2)"
      ]
    },
    {
      "cell_type": "code",
      "execution_count": 4,
      "metadata": {
        "colab": {
          "base_uri": "https://localhost:8080/"
        },
        "id": "yrjGUY7sb9s4",
        "outputId": "bdb673d5-f665-4cc1-ae5a-b385a651bfc5"
      },
      "outputs": [
        {
          "name": "stdout",
          "output_type": "stream",
          "text": [
            "      Car   Color\n",
            "0   Honda     Red\n",
            "1     Kia   Green\n",
            "2  Toyota    Blue\n",
            "3     BMW    Pink\n",
            "4     NaN  Yellow\n"
          ]
        }
      ],
      "source": [
        "# DataFrame is two dimensional\n",
        "car_data = pd.DataFrame({ \"Car\": series_1, \"Color\": series_2 })\n",
        "\n",
        "print(car_data)"
      ]
    },
    {
      "cell_type": "code",
      "execution_count": null,
      "metadata": {
        "id": "xZHCnHIXJPWT"
      },
      "outputs": [
        {
          "data": {
            "text/html": [
              "<div>\n",
              "<style scoped>\n",
              "    .dataframe tbody tr th:only-of-type {\n",
              "        vertical-align: middle;\n",
              "    }\n",
              "\n",
              "    .dataframe tbody tr th {\n",
              "        vertical-align: top;\n",
              "    }\n",
              "\n",
              "    .dataframe thead th {\n",
              "        text-align: right;\n",
              "    }\n",
              "</style>\n",
              "<table border=\"1\" class=\"dataframe\">\n",
              "  <thead>\n",
              "    <tr style=\"text-align: right;\">\n",
              "      <th></th>\n",
              "      <th>product</th>\n",
              "      <th>quantity</th>\n",
              "    </tr>\n",
              "  </thead>\n",
              "  <tbody>\n",
              "    <tr>\n",
              "      <th>0</th>\n",
              "      <td>UPC</td>\n",
              "      <td>1</td>\n",
              "    </tr>\n",
              "    <tr>\n",
              "      <th>1</th>\n",
              "      <td>GPU</td>\n",
              "      <td>1</td>\n",
              "    </tr>\n",
              "    <tr>\n",
              "      <th>2</th>\n",
              "      <td>Memory RAM</td>\n",
              "      <td>32</td>\n",
              "    </tr>\n",
              "    <tr>\n",
              "      <th>3</th>\n",
              "      <td>Monitor</td>\n",
              "      <td>2</td>\n",
              "    </tr>\n",
              "    <tr>\n",
              "      <th>4</th>\n",
              "      <td>Air Cool</td>\n",
              "      <td>4</td>\n",
              "    </tr>\n",
              "    <tr>\n",
              "      <th>5</th>\n",
              "      <td>Keyboard</td>\n",
              "      <td>1</td>\n",
              "    </tr>\n",
              "    <tr>\n",
              "      <th>6</th>\n",
              "      <td>Mouse</td>\n",
              "      <td>1</td>\n",
              "    </tr>\n",
              "    <tr>\n",
              "      <th>7</th>\n",
              "      <td>Mic</td>\n",
              "      <td>1</td>\n",
              "    </tr>\n",
              "    <tr>\n",
              "      <th>8</th>\n",
              "      <td>Sounds</td>\n",
              "      <td>2</td>\n",
              "    </tr>\n",
              "  </tbody>\n",
              "</table>\n",
              "</div>"
            ],
            "text/plain": [
              "      product  quantity\n",
              "0         UPC         1\n",
              "1         GPU         1\n",
              "2  Memory RAM        32\n",
              "3     Monitor         2\n",
              "4    Air Cool         4\n",
              "5    Keyboard         1\n",
              "6       Mouse         1\n",
              "7         Mic         1\n",
              "8      Sounds         2"
            ]
          },
          "execution_count": 17,
          "metadata": {},
          "output_type": "execute_result"
        }
      ],
      "source": [
        "# In most cases we dont create a DataFrame from scrach, but import xls or spreadsheet (csv) file\n",
        "\n",
        "nina_purchases = pd.read_csv('nina.csv')\n",
        "# some changes in the data...\n",
        "nina_purchases.to_csv('nina-2.csv', index=False) # If the file already include id/index to each item, we have to remove the auto IDs approch by set \"index=False\"\n",
        "# nina_purchases.to_excel('nina-2.xls')\n",
        "\n",
        "exported_nina_purchases = pd.read_csv('nina-2.csv')\n",
        "exported_nina_purchases"
      ]
    }
  ],
  "metadata": {
    "colab": {
      "authorship_tag": "ABX9TyMC/1NR8XE/pcGDMZh+oXie",
      "include_colab_link": true,
      "provenance": []
    },
    "kernelspec": {
      "display_name": "Python 3",
      "name": "python3"
    },
    "language_info": {
      "codemirror_mode": {
        "name": "ipython",
        "version": 3
      },
      "file_extension": ".py",
      "mimetype": "text/x-python",
      "name": "python",
      "nbconvert_exporter": "python",
      "pygments_lexer": "ipython3",
      "version": "3.12.2"
    }
  },
  "nbformat": 4,
  "nbformat_minor": 0
}
