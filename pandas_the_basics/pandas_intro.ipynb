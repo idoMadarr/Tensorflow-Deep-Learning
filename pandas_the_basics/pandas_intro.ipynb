{
  "cells": [
    {
      "cell_type": "markdown",
      "metadata": {
        "colab_type": "text",
        "id": "view-in-github"
      },
      "source": [
        "<a href=\"https://colab.research.google.com/github/idoMadarr/Tensorflow-Deep-Learning/blob/main/pandas_the_basics/pandas_intro.ipynb\" target=\"_parent\"><img src=\"https://colab.research.google.com/assets/colab-badge.svg\" alt=\"Open In Colab\"/></a>"
      ]
    },
    {
      "cell_type": "code",
      "execution_count": 23,
      "metadata": {
        "colab": {
          "base_uri": "https://localhost:8080/"
        },
        "id": "EoH098cUV0-z",
        "outputId": "32dee411-a82f-4b4c-be11-ca65b2b1222a"
      },
      "outputs": [
        {
          "name": "stdout",
          "output_type": "stream",
          "text": [
            "2.2.2\n"
          ]
        }
      ],
      "source": [
        "import pandas as pd\n",
        "\n",
        "print(pd.__version__)"
      ]
    },
    {
      "cell_type": "code",
      "execution_count": 24,
      "metadata": {
        "colab": {
          "base_uri": "https://localhost:8080/"
        },
        "id": "c8TQlTWabUD2",
        "outputId": "278fb2b0-e4a5-499d-adb9-97c4dc58b4e6"
      },
      "outputs": [
        {
          "name": "stdout",
          "output_type": "stream",
          "text": [
            "0     Honda\n",
            "1       Kia\n",
            "2    Toyota\n",
            "3       BMW\n",
            "dtype: object\n",
            "0       Red\n",
            "1     Green\n",
            "2      Blue\n",
            "3      Pink\n",
            "4    Yellow\n",
            "dtype: object\n"
          ]
        }
      ],
      "source": [
        "# Pandas work with two main datatypes, \"Series\" and \"DataFrame\"\n",
        "\n",
        "# Series is one dimensional\n",
        "series_1 = pd.Series([\"Honda\", \"Kia\", \"Toyota\", \"BMW\"])\n",
        "series_2 = pd.Series([\"Red\", \"Green\", \"Blue\", \"Pink\", \"Yellow\"])\n",
        "\n",
        "print(series_1)\n",
        "print(series_2)"
      ]
    },
    {
      "cell_type": "code",
      "execution_count": 25,
      "metadata": {
        "colab": {
          "base_uri": "https://localhost:8080/"
        },
        "id": "yrjGUY7sb9s4",
        "outputId": "bdb673d5-f665-4cc1-ae5a-b385a651bfc5"
      },
      "outputs": [
        {
          "name": "stdout",
          "output_type": "stream",
          "text": [
            "      Car   Color\n",
            "0   Honda     Red\n",
            "1     Kia   Green\n",
            "2  Toyota    Blue\n",
            "3     BMW    Pink\n",
            "4     NaN  Yellow\n"
          ]
        }
      ],
      "source": [
        "# DataFrame is two dimensional\n",
        "car_data = pd.DataFrame({ \"Car\": series_1, \"Color\": series_2 })\n",
        "\n",
        "print(car_data)"
      ]
    },
    {
      "cell_type": "code",
      "execution_count": 26,
      "metadata": {
        "id": "xZHCnHIXJPWT"
      },
      "outputs": [
        {
          "data": {
            "text/html": [
              "<div>\n",
              "<style scoped>\n",
              "    .dataframe tbody tr th:only-of-type {\n",
              "        vertical-align: middle;\n",
              "    }\n",
              "\n",
              "    .dataframe tbody tr th {\n",
              "        vertical-align: top;\n",
              "    }\n",
              "\n",
              "    .dataframe thead th {\n",
              "        text-align: right;\n",
              "    }\n",
              "</style>\n",
              "<table border=\"1\" class=\"dataframe\">\n",
              "  <thead>\n",
              "    <tr style=\"text-align: right;\">\n",
              "      <th></th>\n",
              "      <th>Id</th>\n",
              "      <th>Component</th>\n",
              "      <th>Brand</th>\n",
              "      <th>Model</th>\n",
              "      <th>Specs</th>\n",
              "      <th>Serial Number</th>\n",
              "      <th>Notes</th>\n",
              "    </tr>\n",
              "  </thead>\n",
              "  <tbody>\n",
              "    <tr>\n",
              "      <th>0</th>\n",
              "      <td>1</td>\n",
              "      <td>CPU</td>\n",
              "      <td>Intel</td>\n",
              "      <td>Core i7-11700K</td>\n",
              "      <td>8 cores / 16 threads / 3.6GHz</td>\n",
              "      <td>SNCPU123</td>\n",
              "      <td>High-performance CPU</td>\n",
              "    </tr>\n",
              "    <tr>\n",
              "      <th>1</th>\n",
              "      <td>2</td>\n",
              "      <td>RAM</td>\n",
              "      <td>Corsair</td>\n",
              "      <td>Vengeance LPX DDR4</td>\n",
              "      <td>32GB (2x16GB) 3200MHz</td>\n",
              "      <td>SNRAM456</td>\n",
              "      <td>Upgradable to 64GB</td>\n",
              "    </tr>\n",
              "    <tr>\n",
              "      <th>2</th>\n",
              "      <td>3</td>\n",
              "      <td>GPU</td>\n",
              "      <td>NVIDIA</td>\n",
              "      <td>GeForce RTX 3070</td>\n",
              "      <td>8GB GDDR6</td>\n",
              "      <td>SNGPU789</td>\n",
              "      <td>Great for gaming and ML</td>\n",
              "    </tr>\n",
              "    <tr>\n",
              "      <th>3</th>\n",
              "      <td>4</td>\n",
              "      <td>Storage</td>\n",
              "      <td>Samsung</td>\n",
              "      <td>970 EVO Plus</td>\n",
              "      <td>1TB NVMe SSD</td>\n",
              "      <td>SNSTR001</td>\n",
              "      <td>Primary drive</td>\n",
              "    </tr>\n",
              "    <tr>\n",
              "      <th>4</th>\n",
              "      <td>5</td>\n",
              "      <td>OS</td>\n",
              "      <td>Microsoft</td>\n",
              "      <td>Windows 11 Pro</td>\n",
              "      <td>64-bit</td>\n",
              "      <td>NaN</td>\n",
              "      <td>Fully activated</td>\n",
              "    </tr>\n",
              "    <tr>\n",
              "      <th>5</th>\n",
              "      <td>6</td>\n",
              "      <td>Motherboard</td>\n",
              "      <td>ASUS</td>\n",
              "      <td>ROG STRIX Z590-E</td>\n",
              "      <td>ATX / LGA1200 socket</td>\n",
              "      <td>SNMB002</td>\n",
              "      <td>Supports overclocking</td>\n",
              "    </tr>\n",
              "  </tbody>\n",
              "</table>\n",
              "</div>"
            ],
            "text/plain": [
              "   Id    Component      Brand               Model  \\\n",
              "0   1          CPU      Intel      Core i7-11700K   \n",
              "1   2          RAM    Corsair  Vengeance LPX DDR4   \n",
              "2   3          GPU     NVIDIA    GeForce RTX 3070   \n",
              "3   4      Storage    Samsung        970 EVO Plus   \n",
              "4   5           OS  Microsoft      Windows 11 Pro   \n",
              "5   6  Motherboard       ASUS    ROG STRIX Z590-E   \n",
              "\n",
              "                           Specs Serial Number                    Notes  \n",
              "0  8 cores / 16 threads / 3.6GHz      SNCPU123     High-performance CPU  \n",
              "1          32GB (2x16GB) 3200MHz      SNRAM456       Upgradable to 64GB  \n",
              "2                      8GB GDDR6      SNGPU789  Great for gaming and ML  \n",
              "3                   1TB NVMe SSD      SNSTR001            Primary drive  \n",
              "4                         64-bit           NaN          Fully activated  \n",
              "5           ATX / LGA1200 socket       SNMB002    Supports overclocking  "
            ]
          },
          "execution_count": 26,
          "metadata": {},
          "output_type": "execute_result"
        }
      ],
      "source": [
        "# In most cases we dont create a DataFrame from scrach, but import xls or spreadsheet (csv) file\n",
        "\n",
        "nina_purchases = pd.read_csv('pc_data.csv')\n",
        "# some changes in the data...\n",
        "nina_purchases.to_csv('pc_data-2.csv', index=False) # If the file already include id/index to each item, we have to remove the auto IDs approch by set \"index=False\"\n",
        "# nina_purchases.to_excel('nina-2.xls')\n",
        "\n",
        "exported_nina_purchases = pd.read_csv('pc_data-2.csv')\n",
        "exported_nina_purchases"
      ]
    }
  ],
  "metadata": {
    "colab": {
      "authorship_tag": "ABX9TyMC/1NR8XE/pcGDMZh+oXie",
      "include_colab_link": true,
      "provenance": []
    },
    "kernelspec": {
      "display_name": "Python 3",
      "name": "python3"
    },
    "language_info": {
      "codemirror_mode": {
        "name": "ipython",
        "version": 3
      },
      "file_extension": ".py",
      "mimetype": "text/x-python",
      "name": "python",
      "nbconvert_exporter": "python",
      "pygments_lexer": "ipython3",
      "version": "3.12.2"
    }
  },
  "nbformat": 4,
  "nbformat_minor": 0
}
