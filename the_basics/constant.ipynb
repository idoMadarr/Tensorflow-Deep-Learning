{
  "nbformat": 4,
  "nbformat_minor": 0,
  "metadata": {
    "colab": {
      "provenance": [],
      "authorship_tag": "ABX9TyMVIIirtwVgO2wHLsK+4ab8",
      "include_colab_link": true
    },
    "kernelspec": {
      "name": "python3",
      "display_name": "Python 3"
    },
    "language_info": {
      "name": "python"
    }
  },
  "cells": [
    {
      "cell_type": "markdown",
      "metadata": {
        "id": "view-in-github",
        "colab_type": "text"
      },
      "source": [
        "<a href=\"https://colab.research.google.com/github/idoMadarr/Tensorflow-Deep-Learning/blob/main/the_basics/constant.ipynb\" target=\"_parent\"><img src=\"https://colab.research.google.com/assets/colab-badge.svg\" alt=\"Open In Colab\"/></a>"
      ]
    },
    {
      "cell_type": "code",
      "execution_count": 3,
      "metadata": {
        "colab": {
          "base_uri": "https://localhost:8080/"
        },
        "id": "QOtMnm6cEN4f",
        "outputId": "a8887d66-278a-4aa9-92ba-22f0199debf6"
      },
      "outputs": [
        {
          "output_type": "stream",
          "name": "stdout",
          "text": [
            "2.18.0\n"
          ]
        }
      ],
      "source": [
        "import tensorflow as tf\n",
        "print(tf.__version__)"
      ]
    },
    {
      "cell_type": "code",
      "source": [
        "# constant() is a way to build a scalar/vector/matrix/tensor. it's get only one properties that can be array or number\n",
        "\n",
        "scalar = tf.constant(10)\n",
        "print(scalar)\n",
        "print(\"number of dimensions\", scalar.ndim)\n",
        "\n",
        "# Scalar is a unit that present a number (magnitude/size)\n",
        "# Scalar has no shape(), Therefor ndim will be 0 (no dimension)"
      ],
      "metadata": {
        "colab": {
          "base_uri": "https://localhost:8080/"
        },
        "id": "1NRnHcH8Fb6R",
        "outputId": "6fd3ddc7-2124-4210-a9b1-cca1d5e3b82f"
      },
      "execution_count": 15,
      "outputs": [
        {
          "output_type": "stream",
          "name": "stdout",
          "text": [
            "tf.Tensor(10, shape=(), dtype=int32)\n",
            "number of dimensions 0\n"
          ]
        }
      ]
    },
    {
      "cell_type": "code",
      "source": [
        "vector = tf.constant([5, 20, 10, 25])\n",
        "print(vector)\n",
        "print(\"number of dimensions\", vector.ndim)\n",
        "\n",
        "# Vector is a shape that present size & direction\n",
        "# Vector contains only one array of numbers, Therefor ndim will be 1 (one dimension)"
      ],
      "metadata": {
        "colab": {
          "base_uri": "https://localhost:8080/"
        },
        "id": "L1Hsfh3vIRZ2",
        "outputId": "99609c97-5110-44be-c61b-b4a021d3fdbc"
      },
      "execution_count": 16,
      "outputs": [
        {
          "output_type": "stream",
          "name": "stdout",
          "text": [
            "tf.Tensor([ 5 20 10 25], shape=(4,), dtype=int32)\n",
            "number of dimensions 1\n"
          ]
        }
      ]
    },
    {
      "cell_type": "code",
      "source": [
        "matrix = tf.constant([[5, 20, 10, 25], [1, 50, 10, 0]])\n",
        "print(matrix)\n",
        "print(\"number of dimensions\", matrix.ndim)\n",
        "\n",
        "# Matrix is a two-dimensional structure of numbers\n",
        "# Matrix contain nested array, Therefor ndim will be 2"
      ],
      "metadata": {
        "colab": {
          "base_uri": "https://localhost:8080/"
        },
        "id": "OnTOGQrwRgMs",
        "outputId": "3b324c10-a2be-481c-8e76-df6990cab446"
      },
      "execution_count": 17,
      "outputs": [
        {
          "output_type": "stream",
          "name": "stdout",
          "text": [
            "tf.Tensor(\n",
            "[[ 5 20 10 25]\n",
            " [ 1 50 10  0]], shape=(2, 4), dtype=int32)\n",
            "number of dimensions 2\n"
          ]
        }
      ]
    },
    {
      "cell_type": "code",
      "source": [
        "matrix_ = tf.constant([[5, 20, 10], [1, 10, 0], [6, 12, 3], [4, 18, 9]])\n",
        "print(matrix_)\n",
        "print(\"number of dimensions\", matrix_.ndim)"
      ],
      "metadata": {
        "colab": {
          "base_uri": "https://localhost:8080/"
        },
        "id": "4lD2MgdzSWdN",
        "outputId": "db77c692-16bf-4425-dd8b-cfd76262c2c7"
      },
      "execution_count": 22,
      "outputs": [
        {
          "output_type": "stream",
          "name": "stdout",
          "text": [
            "tf.Tensor(\n",
            "[[ 5 20 10]\n",
            " [ 1 10  0]\n",
            " [ 6 12  3]\n",
            " [ 4 18  9]], shape=(4, 3), dtype=int32)\n",
            "number of dimensions 2\n"
          ]
        }
      ]
    },
    {
      "cell_type": "code",
      "source": [
        "tensor = tf.constant([\n",
        "                        [[1, 2, 3], [4, 5, 6]],\n",
        "                        [[7, 8, 9], [10, 11, 12]],\n",
        "                        [[13, 14, 15], [16, 17, 18]]\n",
        "                        ])\n",
        "print(tensor)\n",
        "print(\"number of dimensions\", tensor.ndim)\n",
        "\n",
        "# Tensor is a multi-dimensional array of numerical values that can be used to describe the physical state or properties of a material.\n",
        "# Tensor contain multi-nested array, Therefor ndim will be x (3 and above)"
      ],
      "metadata": {
        "colab": {
          "base_uri": "https://localhost:8080/"
        },
        "id": "eMg3JUtpYU_b",
        "outputId": "d99daa3e-1ec1-4d8b-c6cb-706b22e85ccf"
      },
      "execution_count": 26,
      "outputs": [
        {
          "output_type": "stream",
          "name": "stdout",
          "text": [
            "tf.Tensor(\n",
            "[[[ 1  2  3]\n",
            "  [ 4  5  6]]\n",
            "\n",
            " [[ 7  8  9]\n",
            "  [10 11 12]]\n",
            "\n",
            " [[13 14 15]\n",
            "  [16 17 18]]], shape=(3, 2, 3), dtype=int32)\n",
            "number of dimensions 3\n"
          ]
        }
      ]
    }
  ]
}