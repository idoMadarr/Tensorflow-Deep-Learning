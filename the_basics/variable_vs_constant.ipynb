{
  "nbformat": 4,
  "nbformat_minor": 0,
  "metadata": {
    "colab": {
      "provenance": [],
      "authorship_tag": "ABX9TyNbrVp9lkHHAYKqiz3kjujm",
      "include_colab_link": true
    },
    "kernelspec": {
      "name": "python3",
      "display_name": "Python 3"
    },
    "language_info": {
      "name": "python"
    }
  },
  "cells": [
    {
      "cell_type": "markdown",
      "metadata": {
        "id": "view-in-github",
        "colab_type": "text"
      },
      "source": [
        "<a href=\"https://colab.research.google.com/github/idoMadarr/Tensorflow-Deep-Learning/blob/main/the_basics/Variable_vs_constant.ipynb\" target=\"_parent\"><img src=\"https://colab.research.google.com/assets/colab-badge.svg\" alt=\"Open In Colab\"/></a>"
      ]
    },
    {
      "cell_type": "code",
      "execution_count": 8,
      "metadata": {
        "colab": {
          "base_uri": "https://localhost:8080/"
        },
        "id": "uXpI5F3ffywu",
        "outputId": "3fc46d62-9b9a-4264-ef18-bc6b521d2a87"
      },
      "outputs": [
        {
          "output_type": "stream",
          "name": "stdout",
          "text": [
            "tf.Tensor([10  8], shape=(2,), dtype=int32)\n",
            "<tf.Variable 'Variable:0' shape=(2,) dtype=int32, numpy=array([10,  8], dtype=int32)>\n",
            "<tf.Variable 'Variable:0' shape=(2,) dtype=int32, numpy=array([10,  2], dtype=int32)>\n"
          ]
        }
      ],
      "source": [
        "import tensorflow as tf\n",
        "\n",
        "# unchangeable tensor (vector) - There is no 'assign' method when we create tensor with constant() method\n",
        "unchangeable_tensor = tf.constant([10, 8])\n",
        "print(unchangeable_tensor)\n",
        "\n",
        "# changeable tensor (vector)\n",
        "changeable_tensor = tf.Variable([10, 8])\n",
        "print(changeable_tensor)\n",
        "\n",
        "changeable_tensor[1].assign(2)\n",
        "\n",
        "print(changeable_tensor)"
      ]
    }
  ]
}
